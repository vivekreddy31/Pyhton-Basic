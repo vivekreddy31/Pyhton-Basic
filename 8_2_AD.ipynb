{
  "nbformat": 4,
  "nbformat_minor": 0,
  "metadata": {
    "colab": {
      "provenance": [],
      "gpuType": "T4",
      "authorship_tag": "ABX9TyPJ6Zfq22fE5ZG88QpqRAYS",
      "include_colab_link": true
    },
    "kernelspec": {
      "name": "python3",
      "display_name": "Python 3"
    },
    "language_info": {
      "name": "python"
    },
    "accelerator": "GPU"
  },
  "cells": [
    {
      "cell_type": "markdown",
      "metadata": {
        "id": "view-in-github",
        "colab_type": "text"
      },
      "source": [
        "<a href=\"https://colab.research.google.com/github/vivekreddy31/Pyhton-Basic/blob/main/8_2_AD.ipynb\" target=\"_parent\"><img src=\"https://colab.research.google.com/assets/colab-badge.svg\" alt=\"Open In Colab\"/></a>"
      ]
    },
    {
      "cell_type": "code",
      "execution_count": 1,
      "metadata": {
        "colab": {
          "base_uri": "https://localhost:8080/"
        },
        "id": "7_FUA6QxQngP",
        "outputId": "ffc08c21-1282-4568-ced6-db39c5a4805b"
      },
      "outputs": [
        {
          "output_type": "stream",
          "name": "stdout",
          "text": [
            "i am going college for learning nlp\n"
          ]
        }
      ],
      "source": [
        "print(\"i am going college for learning nlp\")"
      ]
    },
    {
      "cell_type": "markdown",
      "source": [
        "**new line(\\n**"
      ],
      "metadata": {
        "id": "hvw8LgPXQ7YA"
      }
    },
    {
      "cell_type": "code",
      "source": [
        "print(\"i am going college for \\nlearning nlp\")"
      ],
      "metadata": {
        "colab": {
          "base_uri": "https://localhost:8080/"
        },
        "id": "yLCfuOofQ1mj",
        "outputId": "17cf7e57-bcb1-4810-86ab-89652e778e90"
      },
      "execution_count": 3,
      "outputs": [
        {
          "output_type": "stream",
          "name": "stdout",
          "text": [
            "i am going college for \n",
            "learning nlp\n"
          ]
        }
      ]
    },
    {
      "cell_type": "code",
      "source": [
        "print(\"i am going \\ncollege for \\nlearning nlp\")"
      ],
      "metadata": {
        "colab": {
          "base_uri": "https://localhost:8080/"
        },
        "id": "sZp9DSXLRGqj",
        "outputId": "8a3d1954-68df-47c6-c744-1112904b8055"
      },
      "execution_count": 2,
      "outputs": [
        {
          "output_type": "stream",
          "name": "stdout",
          "text": [
            "i am going \n",
            "college for \n",
            "learning nlp\n"
          ]
        }
      ]
    },
    {
      "cell_type": "markdown",
      "source": [
        "## space(\\t) ##\n",
        "\n"
      ],
      "metadata": {
        "id": "Wu0XgjOgRoqs"
      }
    },
    {
      "cell_type": "code",
      "source": [
        "print(\"i am going \\ncollege for \\tlearning nlp\")"
      ],
      "metadata": {
        "colab": {
          "base_uri": "https://localhost:8080/"
        },
        "id": "XiAdCCsyRLHc",
        "outputId": "1fcb27fb-893a-4a7b-fac2-ef2a360a9dce"
      },
      "execution_count": 4,
      "outputs": [
        {
          "output_type": "stream",
          "name": "stdout",
          "text": [
            "i am going \n",
            "college for \tlearning nlp\n"
          ]
        }
      ]
    },
    {
      "cell_type": "markdown",
      "source": [
        "## carriage return(\\r)"
      ],
      "metadata": {
        "id": "HsKtWLMfSBsm"
      }
    },
    {
      "cell_type": "code",
      "source": [
        "print(\"i am going \\ncollege for \\rlearning nlp\")"
      ],
      "metadata": {
        "colab": {
          "base_uri": "https://localhost:8080/"
        },
        "id": "DjXLFZH3RlVC",
        "outputId": "f7b0045b-04e0-43e7-eb9d-a93cb438e8ac"
      },
      "execution_count": 7,
      "outputs": [
        {
          "output_type": "stream",
          "name": "stdout",
          "text": [
            "i am going \n",
            "college for \rlearning nlp\n"
          ]
        }
      ]
    },
    {
      "cell_type": "code",
      "source": [
        "print(\"Hello this is vivek \\nfrom \\rAiml-theta\")"
      ],
      "metadata": {
        "colab": {
          "base_uri": "https://localhost:8080/"
        },
        "id": "ps_MAwNJSLK4",
        "outputId": "c3214704-2417-4593-dd1e-c6edb01aa155"
      },
      "execution_count": 10,
      "outputs": [
        {
          "output_type": "stream",
          "name": "stdout",
          "text": [
            "Hello this is vivek \n",
            "from \rAiml-theta\n"
          ]
        }
      ]
    },
    {
      "cell_type": "code",
      "source": [
        "print(\"i am going \\ncollege for \\nlearning nlp\")"
      ],
      "metadata": {
        "colab": {
          "base_uri": "https://localhost:8080/"
        },
        "id": "2AAvd0W9Si8N",
        "outputId": "5b9159a0-01f7-4ed4-f3a0-cf8dbcec6510"
      },
      "execution_count": 15,
      "outputs": [
        {
          "output_type": "stream",
          "name": "stdout",
          "text": [
            "i am going \n",
            "college for \n",
            "learning nlp\n"
          ]
        }
      ]
    },
    {
      "cell_type": "code",
      "source": [
        "import re"
      ],
      "metadata": {
        "id": "xKbdXVapTELe"
      },
      "execution_count": 16,
      "outputs": []
    },
    {
      "cell_type": "markdown",
      "source": [
        "**re.match()**"
      ],
      "metadata": {
        "id": "MqBwfw6FTZtr"
      }
    },
    {
      "cell_type": "code",
      "source": [
        "string='007 james bond 31 wants to learn the python'\n",
        "pattern=r'\\d+'\n",
        "matching=re.match(pattern,string)\n",
        "matching.group()"
      ],
      "metadata": {
        "colab": {
          "base_uri": "https://localhost:8080/",
          "height": 35
        },
        "id": "S56Syw_hTVj2",
        "outputId": "c2984133-7744-44a6-d31d-148c28583b3a"
      },
      "execution_count": 25,
      "outputs": [
        {
          "output_type": "execute_result",
          "data": {
            "text/plain": [
              "'007'"
            ],
            "application/vnd.google.colaboratory.intrinsic+json": {
              "type": "string"
            }
          },
          "metadata": {},
          "execution_count": 25
        }
      ]
    },
    {
      "cell_type": "markdown",
      "source": [
        "## re.search()"
      ],
      "metadata": {
        "id": "M6Vg4F1rUgV4"
      }
    },
    {
      "cell_type": "code",
      "source": [
        "import re"
      ],
      "metadata": {
        "id": "sCTsLhLUTzoE"
      },
      "execution_count": 26,
      "outputs": []
    },
    {
      "cell_type": "code",
      "source": [
        "pattern=r'\\d+'\n",
        "string='james bond 31 wants to learn the python'\n",
        "matching=re.search(pattern,string)\n",
        "matching.group()"
      ],
      "metadata": {
        "colab": {
          "base_uri": "https://localhost:8080/",
          "height": 35
        },
        "id": "48ISbeLGUmOa",
        "outputId": "26427f46-ec98-43a0-e373-d39cd5d38008"
      },
      "execution_count": 27,
      "outputs": [
        {
          "output_type": "execute_result",
          "data": {
            "text/plain": [
              "'31'"
            ],
            "application/vnd.google.colaboratory.intrinsic+json": {
              "type": "string"
            }
          },
          "metadata": {},
          "execution_count": 27
        }
      ]
    },
    {
      "cell_type": "markdown",
      "source": [
        "##re.findall()"
      ],
      "metadata": {
        "id": "hLgzVCs2VrmP"
      }
    },
    {
      "cell_type": "code",
      "source": [
        "pattern=r'\\d+'\n",
        "string='james bond 31 wants to learn the python'\n",
        "matching=re.search(pattern,string)\n",
        "matching.group()"
      ],
      "metadata": {
        "colab": {
          "base_uri": "https://localhost:8080/",
          "height": 35
        },
        "id": "SF_AHa9eVKpy",
        "outputId": "9e0475c4-2eea-4269-c165-e26776f90afb"
      },
      "execution_count": 41,
      "outputs": [
        {
          "output_type": "execute_result",
          "data": {
            "text/plain": [
              "'31'"
            ],
            "application/vnd.google.colaboratory.intrinsic+json": {
              "type": "string"
            }
          },
          "metadata": {},
          "execution_count": 41
        }
      ]
    },
    {
      "cell_type": "markdown",
      "source": [
        "## re.sub()"
      ],
      "metadata": {
        "id": "aHXSkGsrWvTU"
      }
    },
    {
      "cell_type": "code",
      "source": [
        "pattern=r'\\d'\n",
        "string='james bond 31 wants to 45 learn the 18 python'\n",
        "matching=re.sub(pattern,'#',string)\n",
        "matching"
      ],
      "metadata": {
        "colab": {
          "base_uri": "https://localhost:8080/",
          "height": 35
        },
        "id": "yZ9sB5cVWyu8",
        "outputId": "6e794dc1-3c5f-45b3-e621-3d4c77ade3d8"
      },
      "execution_count": 43,
      "outputs": [
        {
          "output_type": "execute_result",
          "data": {
            "text/plain": [
              "'james bond ## wants to ## learn the ## python'"
            ],
            "application/vnd.google.colaboratory.intrinsic+json": {
              "type": "string"
            }
          },
          "metadata": {},
          "execution_count": 43
        }
      ]
    },
    {
      "cell_type": "code",
      "source": [
        "# Test case\n",
        "text = \"\"\"\n",
        "Hello world! Contact us at info@example.com or support123@company.org. Follow us on social media: #AI #MachineLearning.\n",
        "Visit <a href=\"http://example.com\">our website</a> for more details. This is a test with number 1234.\n",
        "\"\"\""
      ],
      "metadata": {
        "id": "W_E6o8VGXl3c"
      },
      "execution_count": 44,
      "outputs": []
    },
    {
      "cell_type": "code",
      "source": [
        "pattern=r'[a-zA-Z0-9._%+-]+@[a-zA-Z0-9.-]+\\.[a-zA-Z]{2,}'\n",
        "emails=re.findall(pattern,text)\n",
        "emails"
      ],
      "metadata": {
        "colab": {
          "base_uri": "https://localhost:8080/"
        },
        "id": "5gccBG9LYM0h",
        "outputId": "2b6ff07a-901b-48e8-b920-0612fcc385a7"
      },
      "execution_count": 50,
      "outputs": [
        {
          "output_type": "execute_result",
          "data": {
            "text/plain": [
              "['info@example.com', 'support123@company.org']"
            ]
          },
          "metadata": {},
          "execution_count": 50
        }
      ]
    },
    {
      "cell_type": "code",
      "source": [],
      "metadata": {
        "id": "8jXXxVAQZu7s"
      },
      "execution_count": null,
      "outputs": []
    }
  ]
}